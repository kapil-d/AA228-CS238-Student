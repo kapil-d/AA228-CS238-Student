{
 "cells": [
  {
   "cell_type": "code",
   "execution_count": 1,
   "metadata": {},
   "outputs": [],
   "source": [
    "import numpy as np\n",
    "import pandas as pd\n",
    "import matplotlib.pyplot as plt"
   ]
  },
  {
   "cell_type": "code",
   "execution_count": 59,
   "metadata": {},
   "outputs": [
    {
     "name": "stdout",
     "output_type": "stream",
     "text": [
      "s     20704.245824\n",
      "a         1.000000\n",
      "r      -225.000000\n",
      "sp    20559.436800\n",
      "dtype: float64\n",
      "s     22042.765088\n",
      "a         2.000000\n",
      "r      -100.000000\n",
      "sp    21769.112335\n",
      "dtype: float64\n",
      "s     22437.206572\n",
      "a         3.000000\n",
      "r         7.169118\n",
      "sp    22354.051333\n",
      "dtype: float64\n",
      "s     25153.318619\n",
      "a         4.000000\n",
      "r        53.833731\n",
      "sp    25152.342690\n",
      "dtype: float64\n",
      "s     28807.271524\n",
      "a         5.000000\n",
      "r       370.743558\n",
      "sp    28924.262906\n",
      "dtype: float64\n",
      "s     28017.474345\n",
      "a         6.000000\n",
      "r       -57.419630\n",
      "sp    28290.251011\n",
      "dtype: float64\n",
      "s     31277.671073\n",
      "a         7.000000\n",
      "r       435.917224\n",
      "sp    31536.695978\n",
      "dtype: float64\n"
     ]
    }
   ],
   "source": [
    "data = pd.read_csv('medium.csv')\n",
    "for i in range(7):\n",
    "    print(np.mean(data[data['a']==i+1], axis=0))"
   ]
  },
  {
   "cell_type": "code",
   "execution_count": 48,
   "metadata": {},
   "outputs": [],
   "source": [
    "pd.set_option('display.max_rows', 20)"
   ]
  },
  {
   "cell_type": "code",
   "execution_count": 52,
   "metadata": {},
   "outputs": [
    {
     "name": "stdout",
     "output_type": "stream",
     "text": [
      "s     249227.883320\n",
      "a          1.000000\n",
      "r          0.599205\n",
      "sp    249229.700623\n",
      "dtype: float64\n",
      "s     247637.264498\n",
      "a          2.000000\n",
      "r          0.662378\n",
      "sp    247634.938021\n",
      "dtype: float64\n",
      "s     249018.038712\n",
      "a          3.000000\n",
      "r          0.647132\n",
      "sp    248890.903666\n",
      "dtype: float64\n",
      "s     247785.495623\n",
      "a          4.000000\n",
      "r          0.472430\n",
      "sp    247920.526938\n",
      "dtype: float64\n",
      "s     248467.520269\n",
      "a          5.000000\n",
      "r          0.000000\n",
      "sp    247732.669242\n",
      "dtype: float64\n",
      "s     248272.216759\n",
      "a          6.000000\n",
      "r          0.000000\n",
      "sp    248207.272711\n",
      "dtype: float64\n",
      "s     247886.430268\n",
      "a          7.000000\n",
      "r          0.000000\n",
      "sp    248068.842091\n",
      "dtype: float64\n",
      "s     247692.857440\n",
      "a          8.000000\n",
      "r          0.000000\n",
      "sp    247867.612082\n",
      "dtype: float64\n",
      "s     248491.998843\n",
      "a          9.000000\n",
      "r          0.000000\n",
      "sp    248746.238074\n",
      "dtype: float64\n"
     ]
    }
   ],
   "source": [
    "ldata = pd.read_csv('large.csv')\n",
    "for i in range(9):\n",
    "    print(np.mean(ldata[ldata['a']==i+1], axis=0))"
   ]
  },
  {
   "cell_type": "code",
   "execution_count": 39,
   "metadata": {},
   "outputs": [
    {
     "data": {
      "text/plain": [
       "array([-10,  -5,   0,   5,  10,  50, 100], dtype=int64)"
      ]
     },
     "execution_count": 39,
     "metadata": {},
     "output_type": "execute_result"
    }
   ],
   "source": [
    "np.unique(ldata['r'])"
   ]
  },
  {
   "cell_type": "code",
   "execution_count": null,
   "metadata": {},
   "outputs": [
    {
     "data": {
      "text/html": [
       "<div>\n",
       "<style scoped>\n",
       "    .dataframe tbody tr th:only-of-type {\n",
       "        vertical-align: middle;\n",
       "    }\n",
       "\n",
       "    .dataframe tbody tr th {\n",
       "        vertical-align: top;\n",
       "    }\n",
       "\n",
       "    .dataframe thead th {\n",
       "        text-align: right;\n",
       "    }\n",
       "</style>\n",
       "<table border=\"1\" class=\"dataframe\">\n",
       "  <thead>\n",
       "    <tr style=\"text-align: right;\">\n",
       "      <th></th>\n",
       "      <th>s</th>\n",
       "      <th>a</th>\n",
       "      <th>r</th>\n",
       "      <th>sp</th>\n",
       "    </tr>\n",
       "  </thead>\n",
       "  <tbody>\n",
       "    <tr>\n",
       "      <th>1019</th>\n",
       "      <td>301211</td>\n",
       "      <td>3</td>\n",
       "      <td>100</td>\n",
       "      <td>301111</td>\n",
       "    </tr>\n",
       "    <tr>\n",
       "      <th>1024</th>\n",
       "      <td>301211</td>\n",
       "      <td>3</td>\n",
       "      <td>100</td>\n",
       "      <td>301111</td>\n",
       "    </tr>\n",
       "    <tr>\n",
       "      <th>1484</th>\n",
       "      <td>300413</td>\n",
       "      <td>4</td>\n",
       "      <td>100</td>\n",
       "      <td>301013</td>\n",
       "    </tr>\n",
       "    <tr>\n",
       "      <th>1538</th>\n",
       "      <td>301113</td>\n",
       "      <td>3</td>\n",
       "      <td>100</td>\n",
       "      <td>301013</td>\n",
       "    </tr>\n",
       "    <tr>\n",
       "      <th>1542</th>\n",
       "      <td>301014</td>\n",
       "      <td>2</td>\n",
       "      <td>100</td>\n",
       "      <td>301013</td>\n",
       "    </tr>\n",
       "    <tr>\n",
       "      <th>...</th>\n",
       "      <td>...</td>\n",
       "      <td>...</td>\n",
       "      <td>...</td>\n",
       "      <td>...</td>\n",
       "    </tr>\n",
       "    <tr>\n",
       "      <th>99444</th>\n",
       "      <td>301113</td>\n",
       "      <td>3</td>\n",
       "      <td>100</td>\n",
       "      <td>301013</td>\n",
       "    </tr>\n",
       "    <tr>\n",
       "      <th>99555</th>\n",
       "      <td>301014</td>\n",
       "      <td>2</td>\n",
       "      <td>100</td>\n",
       "      <td>301013</td>\n",
       "    </tr>\n",
       "    <tr>\n",
       "      <th>99706</th>\n",
       "      <td>301113</td>\n",
       "      <td>3</td>\n",
       "      <td>100</td>\n",
       "      <td>301013</td>\n",
       "    </tr>\n",
       "    <tr>\n",
       "      <th>99794</th>\n",
       "      <td>301211</td>\n",
       "      <td>3</td>\n",
       "      <td>100</td>\n",
       "      <td>301111</td>\n",
       "    </tr>\n",
       "    <tr>\n",
       "      <th>99900</th>\n",
       "      <td>301211</td>\n",
       "      <td>3</td>\n",
       "      <td>100</td>\n",
       "      <td>301111</td>\n",
       "    </tr>\n",
       "  </tbody>\n",
       "</table>\n",
       "<p>183 rows × 4 columns</p>\n",
       "</div>"
      ],
      "text/plain": [
       "            s  a    r      sp\n",
       "1019   301211  3  100  301111\n",
       "1024   301211  3  100  301111\n",
       "1484   300413  4  100  301013\n",
       "1538   301113  3  100  301013\n",
       "1542   301014  2  100  301013\n",
       "...       ... ..  ...     ...\n",
       "99444  301113  3  100  301013\n",
       "99555  301014  2  100  301013\n",
       "99706  301113  3  100  301013\n",
       "99794  301211  3  100  301111\n",
       "99900  301211  3  100  301111\n",
       "\n",
       "[183 rows x 4 columns]"
      ]
     },
     "execution_count": 85,
     "metadata": {},
     "output_type": "execute_result"
    }
   ],
   "source": [
    "ldata[ldata['r'] == 50]"
   ]
  },
  {
   "cell_type": "code",
   "execution_count": null,
   "metadata": {},
   "outputs": [],
   "source": [
    "class QLearningModel:\n",
    "    def __init__(self, n_s, n_a, gamma, alpha):\n",
    "        self.Q = np.ones([n_s, n_a])\n",
    "        self.gamma = gamma\n",
    "        self.alpha = alpha\n",
    "        \n",
    "    def q_update(self, s, a, r, sp):\n",
    "        self.Q[s, a] += self.alpha * (r + self.gamma*np.max(self.Q[sp]) - self.Q[s, a])\n",
    "        pass\n",
    "\n",
    "    def learn(self, data, max_iter):\n",
    "        for i in range(max_iter):\n",
    "            for s, a, r, sp in data: self.q_update(s, a, r, sp)\n",
    "        pass\n",
    "\n",
    "\n",
    "def write_policy(policy, filename):\n",
    "    np.savetxt(filename, policy, fmt='%d')\n",
    "\n",
    "\n",
    "def find_small_policy(filename, n_s, n_a, gamma, alpha, max_iter):\n",
    "    q_model = QLearningModel(n_s, n_a, gamma, alpha)\n",
    "    data = pd.read_csv(filename).values\n",
    "    #Decrement state and action for zero indexing\n",
    "    data[:,(0, 1, 3)] -= 1\n",
    "\n",
    "    q_model.learn(data, max_iter)\n",
    "    policy = np.argmax(q_model.Q, axis=1) + 1\n",
    "    write_policy(policy, filename.replace('.csv', '.policy'))\n",
    "\n",
    "\n",
    "def find_med_policy(filename, n_s, n_a, gamma, alpha, max_iter):\n",
    "    q_model = QLearningModel(n_s, n_a, gamma, alpha)\n",
    "    data = pd.read_csv(filename).values\n",
    "    #Decrement state and action for zero indexing\n",
    "    data[:,(0, 1, 3)] -= 1\n",
    "\n",
    "    q_model.learn(data, max_iter)\n",
    "    policy = 4*np.ones(q_model.Q.shape[0])\n",
    "    for ind in data[:,0]:\n",
    "        policy[ind] = np.argmax(q_model.Q[ind]) + 1\n",
    "    write_policy(policy, filename.replace('.csv', '.policy'))\n",
    "\n",
    "\n",
    "def find_large_policy(filename, n_s, n_a, gamma, alpha, max_iter):\n",
    "    q_model = QLearningModel(n_s, n_a, gamma, alpha)\n",
    "    data = pd.read_csv(filename).values\n",
    "    #Decrement state and action for zero indexing\n",
    "    data[:,(0, 1, 3)] -= 1\n",
    "\n",
    "    q_model.learn(data, max_iter)\n",
    "    #policy = 2*np.ones(q_model.Q.shape[0])\n",
    "    policy = np.random.choice([1,2,3,4], size=q_model.Q.shape[0])\n",
    "    for ind in data[:,0]:\n",
    "        policy[ind] = np.argmax(q_model.Q[ind]) + 1\n",
    "    #policy = np.argmax(q_model.Q, axis=1) + 1\n",
    "    write_policy(policy, filename.replace('.csv', '.policy'))\n",
    "    "
   ]
  },
  {
   "cell_type": "code",
   "execution_count": 99,
   "metadata": {},
   "outputs": [],
   "source": [
    "find_med_policy('medium.csv', 50000, 7, 1, 0.4, 100)"
   ]
  },
  {
   "cell_type": "code",
   "execution_count": null,
   "metadata": {},
   "outputs": [],
   "source": [
    "find_large_policy('large.csv',302020, 9, 0.95, 0.08, 100)"
   ]
  },
  {
   "cell_type": "code",
   "execution_count": 68,
   "metadata": {},
   "outputs": [],
   "source": [
    "find_small_policy('small.csv', 100, 4, 0.95, 0.12, 100)"
   ]
  },
  {
   "cell_type": "code",
   "execution_count": null,
   "metadata": {},
   "outputs": [],
   "source": []
  }
 ],
 "metadata": {
  "kernelspec": {
   "display_name": "Python 3",
   "language": "python",
   "name": "python3"
  },
  "language_info": {
   "codemirror_mode": {
    "name": "ipython",
    "version": 3
   },
   "file_extension": ".py",
   "mimetype": "text/x-python",
   "name": "python",
   "nbconvert_exporter": "python",
   "pygments_lexer": "ipython3",
   "version": "3.10.11"
  }
 },
 "nbformat": 4,
 "nbformat_minor": 2
}
