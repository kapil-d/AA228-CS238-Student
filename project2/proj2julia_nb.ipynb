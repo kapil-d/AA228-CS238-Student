{
 "cells": [
  {
   "cell_type": "code",
   "execution_count": 1,
   "metadata": {},
   "outputs": [],
   "source": [
    "using CSV\n",
    "using DataFrames"
   ]
  },
  {
   "cell_type": "code",
   "execution_count": 2,
   "metadata": {},
   "outputs": [
    {
     "data": {
      "text/html": [
       "<div><div style = \"float: left;\"><span>100000×4 DataFrame</span></div><div style = \"float: right;\"><span style = \"font-style: italic;\">99975 rows omitted</span></div><div style = \"clear: both;\"></div></div><div class = \"data-frame\" style = \"overflow-x: scroll;\"><table class = \"data-frame\" style = \"margin-bottom: 6px;\"><thead><tr class = \"header\"><th class = \"rowNumber\" style = \"font-weight: bold; text-align: right;\">Row</th><th style = \"text-align: left;\">s</th><th style = \"text-align: left;\">a</th><th style = \"text-align: left;\">r</th><th style = \"text-align: left;\">sp</th></tr><tr class = \"subheader headerLastRow\"><th class = \"rowNumber\" style = \"font-weight: bold; text-align: right;\"></th><th title = \"Int64\" style = \"text-align: left;\">Int64</th><th title = \"Int64\" style = \"text-align: left;\">Int64</th><th title = \"Int64\" style = \"text-align: left;\">Int64</th><th title = \"Int64\" style = \"text-align: left;\">Int64</th></tr></thead><tbody><tr><td class = \"rowNumber\" style = \"font-weight: bold; text-align: right;\">1</td><td style = \"text-align: right;\">24701</td><td style = \"text-align: right;\">3</td><td style = \"text-align: right;\">-25</td><td style = \"text-align: right;\">24701</td></tr><tr><td class = \"rowNumber\" style = \"font-weight: bold; text-align: right;\">2</td><td style = \"text-align: right;\">24701</td><td style = \"text-align: right;\">2</td><td style = \"text-align: right;\">-100</td><td style = \"text-align: right;\">24201</td></tr><tr><td class = \"rowNumber\" style = \"font-weight: bold; text-align: right;\">3</td><td style = \"text-align: right;\">24201</td><td style = \"text-align: right;\">3</td><td style = \"text-align: right;\">-25</td><td style = \"text-align: right;\">24200</td></tr><tr><td class = \"rowNumber\" style = \"font-weight: bold; text-align: right;\">4</td><td style = \"text-align: right;\">24200</td><td style = \"text-align: right;\">4</td><td style = \"text-align: right;\">0</td><td style = \"text-align: right;\">24200</td></tr><tr><td class = \"rowNumber\" style = \"font-weight: bold; text-align: right;\">5</td><td style = \"text-align: right;\">24200</td><td style = \"text-align: right;\">4</td><td style = \"text-align: right;\">0</td><td style = \"text-align: right;\">24200</td></tr><tr><td class = \"rowNumber\" style = \"font-weight: bold; text-align: right;\">6</td><td style = \"text-align: right;\">24200</td><td style = \"text-align: right;\">4</td><td style = \"text-align: right;\">0</td><td style = \"text-align: right;\">24699</td></tr><tr><td class = \"rowNumber\" style = \"font-weight: bold; text-align: right;\">7</td><td style = \"text-align: right;\">24699</td><td style = \"text-align: right;\">3</td><td style = \"text-align: right;\">-25</td><td style = \"text-align: right;\">24199</td></tr><tr><td class = \"rowNumber\" style = \"font-weight: bold; text-align: right;\">8</td><td style = \"text-align: right;\">24199</td><td style = \"text-align: right;\">3</td><td style = \"text-align: right;\">-25</td><td style = \"text-align: right;\">24199</td></tr><tr><td class = \"rowNumber\" style = \"font-weight: bold; text-align: right;\">9</td><td style = \"text-align: right;\">24199</td><td style = \"text-align: right;\">2</td><td style = \"text-align: right;\">-100</td><td style = \"text-align: right;\">24198</td></tr><tr><td class = \"rowNumber\" style = \"font-weight: bold; text-align: right;\">10</td><td style = \"text-align: right;\">24198</td><td style = \"text-align: right;\">3</td><td style = \"text-align: right;\">-25</td><td style = \"text-align: right;\">24197</td></tr><tr><td class = \"rowNumber\" style = \"font-weight: bold; text-align: right;\">11</td><td style = \"text-align: right;\">24197</td><td style = \"text-align: right;\">4</td><td style = \"text-align: right;\">0</td><td style = \"text-align: right;\">24197</td></tr><tr><td class = \"rowNumber\" style = \"font-weight: bold; text-align: right;\">12</td><td style = \"text-align: right;\">24197</td><td style = \"text-align: right;\">2</td><td style = \"text-align: right;\">-100</td><td style = \"text-align: right;\">23696</td></tr><tr><td class = \"rowNumber\" style = \"font-weight: bold; text-align: right;\">13</td><td style = \"text-align: right;\">23696</td><td style = \"text-align: right;\">4</td><td style = \"text-align: right;\">0</td><td style = \"text-align: right;\">23695</td></tr><tr><td style = \"text-align: right;\">&vellip;</td><td style = \"text-align: right;\">&vellip;</td><td style = \"text-align: right;\">&vellip;</td><td style = \"text-align: right;\">&vellip;</td><td style = \"text-align: right;\">&vellip;</td></tr><tr><td class = \"rowNumber\" style = \"font-weight: bold; text-align: right;\">99989</td><td style = \"text-align: right;\">17695</td><td style = \"text-align: right;\">5</td><td style = \"text-align: right;\">-25</td><td style = \"text-align: right;\">18191</td></tr><tr><td class = \"rowNumber\" style = \"font-weight: bold; text-align: right;\">99990</td><td style = \"text-align: right;\">18191</td><td style = \"text-align: right;\">3</td><td style = \"text-align: right;\">-25</td><td style = \"text-align: right;\">18186</td></tr><tr><td class = \"rowNumber\" style = \"font-weight: bold; text-align: right;\">99991</td><td style = \"text-align: right;\">18186</td><td style = \"text-align: right;\">1</td><td style = \"text-align: right;\">-225</td><td style = \"text-align: right;\">18181</td></tr><tr><td class = \"rowNumber\" style = \"font-weight: bold; text-align: right;\">99992</td><td style = \"text-align: right;\">18181</td><td style = \"text-align: right;\">1</td><td style = \"text-align: right;\">-225</td><td style = \"text-align: right;\">18176</td></tr><tr><td class = \"rowNumber\" style = \"font-weight: bold; text-align: right;\">99993</td><td style = \"text-align: right;\">18176</td><td style = \"text-align: right;\">1</td><td style = \"text-align: right;\">-225</td><td style = \"text-align: right;\">18171</td></tr><tr><td class = \"rowNumber\" style = \"font-weight: bold; text-align: right;\">99994</td><td style = \"text-align: right;\">18171</td><td style = \"text-align: right;\">7</td><td style = \"text-align: right;\">-225</td><td style = \"text-align: right;\">18667</td></tr><tr><td class = \"rowNumber\" style = \"font-weight: bold; text-align: right;\">99995</td><td style = \"text-align: right;\">18667</td><td style = \"text-align: right;\">6</td><td style = \"text-align: right;\">-100</td><td style = \"text-align: right;\">19163</td></tr><tr><td class = \"rowNumber\" style = \"font-weight: bold; text-align: right;\">99996</td><td style = \"text-align: right;\">19163</td><td style = \"text-align: right;\">7</td><td style = \"text-align: right;\">-225</td><td style = \"text-align: right;\">20159</td></tr><tr><td class = \"rowNumber\" style = \"font-weight: bold; text-align: right;\">99997</td><td style = \"text-align: right;\">20159</td><td style = \"text-align: right;\">1</td><td style = \"text-align: right;\">-225</td><td style = \"text-align: right;\">20156</td></tr><tr><td class = \"rowNumber\" style = \"font-weight: bold; text-align: right;\">99998</td><td style = \"text-align: right;\">20156</td><td style = \"text-align: right;\">1</td><td style = \"text-align: right;\">-225</td><td style = \"text-align: right;\">20653</td></tr><tr><td class = \"rowNumber\" style = \"font-weight: bold; text-align: right;\">99999</td><td style = \"text-align: right;\">20653</td><td style = \"text-align: right;\">1</td><td style = \"text-align: right;\">-225</td><td style = \"text-align: right;\">20650</td></tr><tr><td class = \"rowNumber\" style = \"font-weight: bold; text-align: right;\">100000</td><td style = \"text-align: right;\">25343</td><td style = \"text-align: right;\">3</td><td style = \"text-align: right;\">-25</td><td style = \"text-align: right;\">24712</td></tr></tbody></table></div>"
      ],
      "text/latex": [
       "\\begin{tabular}{r|cccc}\n",
       "\t& s & a & r & sp\\\\\n",
       "\t\\hline\n",
       "\t& Int64 & Int64 & Int64 & Int64\\\\\n",
       "\t\\hline\n",
       "\t1 & 24701 & 3 & -25 & 24701 \\\\\n",
       "\t2 & 24701 & 2 & -100 & 24201 \\\\\n",
       "\t3 & 24201 & 3 & -25 & 24200 \\\\\n",
       "\t4 & 24200 & 4 & 0 & 24200 \\\\\n",
       "\t5 & 24200 & 4 & 0 & 24200 \\\\\n",
       "\t6 & 24200 & 4 & 0 & 24699 \\\\\n",
       "\t7 & 24699 & 3 & -25 & 24199 \\\\\n",
       "\t8 & 24199 & 3 & -25 & 24199 \\\\\n",
       "\t9 & 24199 & 2 & -100 & 24198 \\\\\n",
       "\t10 & 24198 & 3 & -25 & 24197 \\\\\n",
       "\t11 & 24197 & 4 & 0 & 24197 \\\\\n",
       "\t12 & 24197 & 2 & -100 & 23696 \\\\\n",
       "\t13 & 23696 & 4 & 0 & 23695 \\\\\n",
       "\t14 & 23695 & 3 & -25 & 23694 \\\\\n",
       "\t15 & 23694 & 2 & -100 & 23693 \\\\\n",
       "\t16 & 23693 & 4 & 0 & 23693 \\\\\n",
       "\t17 & 23693 & 2 & -100 & 23692 \\\\\n",
       "\t18 & 23692 & 2 & -100 & 23191 \\\\\n",
       "\t19 & 23191 & 4 & 0 & 23690 \\\\\n",
       "\t20 & 23690 & 3 & -25 & 23689 \\\\\n",
       "\t21 & 23689 & 5 & -25 & 23688 \\\\\n",
       "\t22 & 23688 & 4 & 0 & 24187 \\\\\n",
       "\t23 & 24187 & 5 & -25 & 24187 \\\\\n",
       "\t24 & 24187 & 4 & 0 & 24687 \\\\\n",
       "\t$\\dots$ & $\\dots$ & $\\dots$ & $\\dots$ & $\\dots$ \\\\\n",
       "\\end{tabular}\n"
      ],
      "text/plain": [
       "\u001b[1m100000×4 DataFrame\u001b[0m\n",
       "\u001b[1m    Row \u001b[0m│\u001b[1m s     \u001b[0m\u001b[1m a     \u001b[0m\u001b[1m r     \u001b[0m\u001b[1m sp    \u001b[0m\n",
       "        │\u001b[90m Int64 \u001b[0m\u001b[90m Int64 \u001b[0m\u001b[90m Int64 \u001b[0m\u001b[90m Int64 \u001b[0m\n",
       "────────┼────────────────────────────\n",
       "      1 │ 24701      3    -25  24701\n",
       "      2 │ 24701      2   -100  24201\n",
       "      3 │ 24201      3    -25  24200\n",
       "      4 │ 24200      4      0  24200\n",
       "      5 │ 24200      4      0  24200\n",
       "      6 │ 24200      4      0  24699\n",
       "      7 │ 24699      3    -25  24199\n",
       "      8 │ 24199      3    -25  24199\n",
       "   ⋮    │   ⋮      ⋮      ⋮      ⋮\n",
       "  99994 │ 18171      7   -225  18667\n",
       "  99995 │ 18667      6   -100  19163\n",
       "  99996 │ 19163      7   -225  20159\n",
       "  99997 │ 20159      1   -225  20156\n",
       "  99998 │ 20156      1   -225  20653\n",
       "  99999 │ 20653      1   -225  20650\n",
       " 100000 │ 25343      3    -25  24712\n",
       "\u001b[36m                   99985 rows omitted\u001b[0m"
      ]
     },
     "metadata": {},
     "output_type": "display_data"
    }
   ],
   "source": [
    "df = CSV.read(\"data/medium.csv\", DataFrame)"
   ]
  },
  {
   "cell_type": "code",
   "execution_count": 3,
   "metadata": {},
   "outputs": [
    {
     "data": {
      "text/html": [
       "<div><div style = \"float: left;\"><span>7×4 DataFrame</span></div><div style = \"clear: both;\"></div></div><div class = \"data-frame\" style = \"overflow-x: scroll;\"><table class = \"data-frame\" style = \"margin-bottom: 6px;\"><thead><tr class = \"header\"><th class = \"rowNumber\" style = \"font-weight: bold; text-align: right;\">Row</th><th style = \"text-align: left;\">s</th><th style = \"text-align: left;\">a</th><th style = \"text-align: left;\">r</th><th style = \"text-align: left;\">sp</th></tr><tr class = \"subheader headerLastRow\"><th class = \"rowNumber\" style = \"font-weight: bold; text-align: right;\"></th><th title = \"Int64\" style = \"text-align: left;\">Int64</th><th title = \"Int64\" style = \"text-align: left;\">Int64</th><th title = \"Int64\" style = \"text-align: left;\">Int64</th><th title = \"Int64\" style = \"text-align: left;\">Int64</th></tr></thead><tbody><tr><td class = \"rowNumber\" style = \"font-weight: bold; text-align: right;\">1</td><td style = \"text-align: right;\">31965</td><td style = \"text-align: right;\">4</td><td style = \"text-align: right;\">100000</td><td style = \"text-align: right;\">31469</td></tr><tr><td class = \"rowNumber\" style = \"font-weight: bold; text-align: right;\">2</td><td style = \"text-align: right;\">30464</td><td style = \"text-align: right;\">4</td><td style = \"text-align: right;\">100000</td><td style = \"text-align: right;\">29967</td></tr><tr><td class = \"rowNumber\" style = \"font-weight: bold; text-align: right;\">3</td><td style = \"text-align: right;\">31963</td><td style = \"text-align: right;\">4</td><td style = \"text-align: right;\">100000</td><td style = \"text-align: right;\">31467</td></tr><tr><td class = \"rowNumber\" style = \"font-weight: bold; text-align: right;\">4</td><td style = \"text-align: right;\">27965</td><td style = \"text-align: right;\">4</td><td style = \"text-align: right;\">100000</td><td style = \"text-align: right;\">27967</td></tr><tr><td class = \"rowNumber\" style = \"font-weight: bold; text-align: right;\">5</td><td style = \"text-align: right;\">29966</td><td style = \"text-align: right;\">4</td><td style = \"text-align: right;\">100000</td><td style = \"text-align: right;\">29469</td></tr><tr><td class = \"rowNumber\" style = \"font-weight: bold; text-align: right;\">6</td><td style = \"text-align: right;\">31966</td><td style = \"text-align: right;\">4</td><td style = \"text-align: right;\">100000</td><td style = \"text-align: right;\">31971</td></tr><tr><td class = \"rowNumber\" style = \"font-weight: bold; text-align: right;\">7</td><td style = \"text-align: right;\">33461</td><td style = \"text-align: right;\">4</td><td style = \"text-align: right;\">100000</td><td style = \"text-align: right;\">33467</td></tr></tbody></table></div>"
      ],
      "text/latex": [
       "\\begin{tabular}{r|cccc}\n",
       "\t& s & a & r & sp\\\\\n",
       "\t\\hline\n",
       "\t& Int64 & Int64 & Int64 & Int64\\\\\n",
       "\t\\hline\n",
       "\t1 & 31965 & 4 & 100000 & 31469 \\\\\n",
       "\t2 & 30464 & 4 & 100000 & 29967 \\\\\n",
       "\t3 & 31963 & 4 & 100000 & 31467 \\\\\n",
       "\t4 & 27965 & 4 & 100000 & 27967 \\\\\n",
       "\t5 & 29966 & 4 & 100000 & 29469 \\\\\n",
       "\t6 & 31966 & 4 & 100000 & 31971 \\\\\n",
       "\t7 & 33461 & 4 & 100000 & 33467 \\\\\n",
       "\\end{tabular}\n"
      ],
      "text/plain": [
       "\u001b[1m7×4 DataFrame\u001b[0m\n",
       "\u001b[1m Row \u001b[0m│\u001b[1m s     \u001b[0m\u001b[1m a     \u001b[0m\u001b[1m r      \u001b[0m\u001b[1m sp    \u001b[0m\n",
       "     │\u001b[90m Int64 \u001b[0m\u001b[90m Int64 \u001b[0m\u001b[90m Int64  \u001b[0m\u001b[90m Int64 \u001b[0m\n",
       "─────┼─────────────────────────────\n",
       "   1 │ 31965      4  100000  31469\n",
       "   2 │ 30464      4  100000  29967\n",
       "   3 │ 31963      4  100000  31467\n",
       "   4 │ 27965      4  100000  27967\n",
       "   5 │ 29966      4  100000  29469\n",
       "   6 │ 31966      4  100000  31971\n",
       "   7 │ 33461      4  100000  33467"
      ]
     },
     "metadata": {},
     "output_type": "display_data"
    }
   ],
   "source": [
    "maxs = df[df.r .== 100000, :]"
   ]
  },
  {
   "cell_type": "code",
   "execution_count": 5,
   "metadata": {},
   "outputs": [
    {
     "data": {
      "text/plain": [
       "72243"
      ]
     },
     "metadata": {},
     "output_type": "display_data"
    }
   ],
   "source": [
    "argmin(df.s)"
   ]
  },
  {
   "cell_type": "code",
   "execution_count": 8,
   "metadata": {},
   "outputs": [
    {
     "data": {
      "text/html": [
       "<div><div style = \"float: left;\"><span>DataFrameRow (4 columns)</span></div><div style = \"clear: both;\"></div></div><div class = \"data-frame\" style = \"overflow-x: scroll;\"><table class = \"data-frame\" style = \"margin-bottom: 6px;\"><thead><tr class = \"header\"><th class = \"rowLabel\" style = \"font-weight: bold; text-align: right;\">Row</th><th style = \"text-align: left;\">s</th><th style = \"text-align: left;\">a</th><th style = \"text-align: left;\">r</th><th style = \"text-align: left;\">sp</th></tr><tr class = \"subheader headerLastRow\"><th class = \"rowLabel\" style = \"font-weight: bold; text-align: right;\"></th><th title = \"Int64\" style = \"text-align: left;\">Int64</th><th title = \"Int64\" style = \"text-align: left;\">Int64</th><th title = \"Int64\" style = \"text-align: left;\">Int64</th><th title = \"Int64\" style = \"text-align: left;\">Int64</th></tr></thead><tbody><tr><td class = \"rowLabel\" style = \"font-weight: bold; text-align: right;\">72243</td><td style = \"text-align: right;\">643</td><td style = \"text-align: right;\">1</td><td style = \"text-align: right;\">-225</td><td style = \"text-align: right;\">1127</td></tr></tbody></table></div>"
      ],
      "text/latex": [
       "\\begin{tabular}{r|cccc}\n",
       "\t& s & a & r & sp\\\\\n",
       "\t\\hline\n",
       "\t& Int64 & Int64 & Int64 & Int64\\\\\n",
       "\t\\hline\n",
       "\t72243 & 643 & 1 & -225 & 1127 \\\\\n",
       "\\end{tabular}\n"
      ],
      "text/plain": [
       "\u001b[1mDataFrameRow\u001b[0m\n",
       "\u001b[1m   Row \u001b[0m│\u001b[1m s     \u001b[0m\u001b[1m a     \u001b[0m\u001b[1m r     \u001b[0m\u001b[1m sp    \u001b[0m\n",
       "       │\u001b[90m Int64 \u001b[0m\u001b[90m Int64 \u001b[0m\u001b[90m Int64 \u001b[0m\u001b[90m Int64 \u001b[0m\n",
       "───────┼────────────────────────────\n",
       " 72243 │   643      1   -225   1127"
      ]
     },
     "metadata": {},
     "output_type": "display_data"
    }
   ],
   "source": [
    "df[72243, :]"
   ]
  },
  {
   "cell_type": "code",
   "execution_count": null,
   "metadata": {},
   "outputs": [],
   "source": []
  }
 ],
 "metadata": {
  "kernelspec": {
   "display_name": "Julia 1.11.1",
   "language": "julia",
   "name": "julia-1.11"
  },
  "language_info": {
   "file_extension": ".jl",
   "mimetype": "application/julia",
   "name": "julia",
   "version": "1.11.1"
  }
 },
 "nbformat": 4,
 "nbformat_minor": 2
}
